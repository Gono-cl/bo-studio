{
 "cells": [
  {
   "cell_type": "code",
   "execution_count": 6,
   "id": "12e8a6f8-057f-4c1c-9e1c-f30c47bf21eb",
   "metadata": {},
   "outputs": [
    {
     "name": "stdout",
     "output_type": "stream",
     "text": [
      "Hitec_OPC_DA20_Server->DIAZOAN:CHILLER_01.X1: Value: 28.0 Quality: 216 Timestamp: 2025-05-07T09:54:49.293Z\n",
      "Hitec_OPC_DA20_Server->DIAZOAN:CHILLER_01.X1: Value: 28.0 Quality: 216 Timestamp: 2025-05-07T09:54:49.293Z\n",
      "Hitec_OPC_DA20_Server->DIAZOAN:CHILLER_01.X1: Value: 28.0 Quality: 216 Timestamp: 2025-05-07T09:54:49.293Z\n"
     ]
    },
    {
     "ename": "KeyboardInterrupt",
     "evalue": "",
     "output_type": "error",
     "traceback": [
      "\u001b[1;31m---------------------------------------------------------------------------\u001b[0m",
      "\u001b[1;31mKeyboardInterrupt\u001b[0m                         Traceback (most recent call last)",
      "Cell \u001b[1;32mIn[6], line 25\u001b[0m\n\u001b[0;32m     22\u001b[0m     \u001b[38;5;28mprint\u001b[39m(item[\u001b[38;5;124m\"\u001b[39m\u001b[38;5;124mID\u001b[39m\u001b[38;5;124m\"\u001b[39m] \u001b[38;5;241m+\u001b[39m \u001b[38;5;124m\"\u001b[39m\u001b[38;5;124m:\u001b[39m\u001b[38;5;124m\"\u001b[39m \u001b[38;5;241m+\u001b[39m \u001b[38;5;124m\"\u001b[39m\u001b[38;5;124m Value: \u001b[39m\u001b[38;5;124m\"\u001b[39m \u001b[38;5;241m+\u001b[39m \u001b[38;5;28mstr\u001b[39m(item[\u001b[38;5;124m\"\u001b[39m\u001b[38;5;124mValue\u001b[39m\u001b[38;5;124m\"\u001b[39m]) \u001b[38;5;241m+\u001b[39m \u001b[38;5;124m\"\u001b[39m\u001b[38;5;124m Quality: \u001b[39m\u001b[38;5;124m\"\u001b[39m \u001b[38;5;241m+\u001b[39m \u001b[38;5;28mstr\u001b[39m(item[\u001b[38;5;124m\"\u001b[39m\u001b[38;5;124mQuality\u001b[39m\u001b[38;5;124m\"\u001b[39m]) \u001b[38;5;241m+\u001b[39m \u001b[38;5;124m\"\u001b[39m\u001b[38;5;124m Timestamp: \u001b[39m\u001b[38;5;124m\"\u001b[39m \u001b[38;5;241m+\u001b[39m item[\u001b[38;5;124m\"\u001b[39m\u001b[38;5;124mSourceTimestamp\u001b[39m\u001b[38;5;124m\"\u001b[39m])\n\u001b[0;32m     24\u001b[0m \u001b[38;5;66;03m#sleep for 1 second\u001b[39;00m\n\u001b[1;32m---> 25\u001b[0m time\u001b[38;5;241m.\u001b[39msleep(\u001b[38;5;241m1\u001b[39m)\n",
      "\u001b[1;31mKeyboardInterrupt\u001b[0m: "
     ]
    }
   ],
   "source": [
    "import requests\n",
    "import json\n",
    "import time\n",
    "\n",
    "#To fix error \"ImportError: No module named requests\"\n",
    "#   1. Start Command Prompt (cmd.exe)\n",
    "#   2. Enter \"py -3 -m pip install requests\"\n",
    "\n",
    "#To fix error \"ImportError: No module named json\"\n",
    "#   1. Start Command Prompt (cmd.exe)\n",
    "#   2. Enter \"py -3 -m pip install json\"\n",
    "\n",
    "while(True):\n",
    "    response = requests.get(\"http://em-nun:57080/read?item=Hitec_OPC_DA20_Server->DIAZOAN:CHILLER_01.X1\")\n",
    "\n",
    "    #parse response string(JSON) into a JSON object\n",
    "    json_object = json.loads(response.text)\n",
    "    data = json_object[\"data\"]\n",
    "\n",
    "    #each item contains the properties: ID, Value, Quality, SourceTimestamp, ServerTimestamp\n",
    "    for item in data:\n",
    "        print(item[\"ID\"] + \":\" + \" Value: \" + str(item[\"Value\"]) + \" Quality: \" + str(item[\"Quality\"]) + \" Timestamp: \" + item[\"SourceTimestamp\"])\n",
    "\n",
    "    #sleep for 1 second\n",
    "    time.sleep(1)\n"
   ]
  },
  {
   "cell_type": "code",
   "execution_count": 1,
   "id": "397ebbb0-189a-4d67-b7f9-7462903ed177",
   "metadata": {},
   "outputs": [
    {
     "name": "stdout",
     "output_type": "stream",
     "text": [
      "Collecting plotly\n",
      "  Downloading plotly-6.0.1-py3-none-any.whl.metadata (6.7 kB)\n",
      "Requirement already satisfied: narwhals>=1.15.1 in c:\\users\\gon41849\\appdata\\local\\anaconda4\\envs\\streamlit_vol\\lib\\site-packages (from plotly) (1.32.0)\n",
      "Requirement already satisfied: packaging in c:\\users\\gon41849\\appdata\\local\\anaconda4\\envs\\streamlit_vol\\lib\\site-packages (from plotly) (24.2)\n",
      "Downloading plotly-6.0.1-py3-none-any.whl (14.8 MB)\n",
      "   ---------------------------------------- 0.0/14.8 MB ? eta -:--:--\n",
      "   --------------- ------------------------ 5.8/14.8 MB 29.3 MB/s eta 0:00:01\n",
      "   ------------------------ --------------- 8.9/14.8 MB 21.3 MB/s eta 0:00:01\n",
      "   ----------------------------- ---------- 10.7/14.8 MB 17.2 MB/s eta 0:00:01\n",
      "   ---------------------------------- ----- 12.8/14.8 MB 15.2 MB/s eta 0:00:01\n",
      "   ---------------------------------------- 14.8/14.8 MB 14.5 MB/s eta 0:00:00\n",
      "Installing collected packages: plotly\n",
      "Successfully installed plotly-6.0.1\n",
      "Note: you may need to restart the kernel to use updated packages.\n"
     ]
    }
   ],
   "source": [
    "pip install plotly"
   ]
  },
  {
   "cell_type": "code",
   "execution_count": 1,
   "id": "f0227def-faa7-4930-893d-36f33cec08ea",
   "metadata": {},
   "outputs": [
    {
     "name": "stdout",
     "output_type": "stream",
     "text": [
      "Collecting weasyprint\n",
      "  Downloading weasyprint-65.1-py3-none-any.whl.metadata (3.7 kB)\n",
      "Collecting pydyf>=0.11.0 (from weasyprint)\n",
      "  Downloading pydyf-0.11.0-py3-none-any.whl.metadata (2.5 kB)\n",
      "Requirement already satisfied: cffi>=0.6 in c:\\users\\gon41849\\appdata\\local\\anaconda4\\envs\\streamlit_vol\\lib\\site-packages (from weasyprint) (1.17.1)\n",
      "Collecting tinyhtml5>=2.0.0b1 (from weasyprint)\n",
      "  Downloading tinyhtml5-2.0.0-py3-none-any.whl.metadata (2.9 kB)\n",
      "Requirement already satisfied: tinycss2>=1.4.0 in c:\\users\\gon41849\\appdata\\local\\anaconda4\\envs\\streamlit_vol\\lib\\site-packages (from weasyprint) (1.4.0)\n",
      "Collecting cssselect2>=0.8.0 (from weasyprint)\n",
      "  Downloading cssselect2-0.8.0-py3-none-any.whl.metadata (2.9 kB)\n",
      "Collecting Pyphen>=0.9.1 (from weasyprint)\n",
      "  Downloading pyphen-0.17.2-py3-none-any.whl.metadata (3.2 kB)\n",
      "Requirement already satisfied: Pillow>=9.1.0 in c:\\users\\gon41849\\appdata\\local\\anaconda4\\envs\\streamlit_vol\\lib\\site-packages (from weasyprint) (11.1.0)\n",
      "Requirement already satisfied: fonttools>=4.0.0 in c:\\users\\gon41849\\appdata\\local\\anaconda4\\envs\\streamlit_vol\\lib\\site-packages (from fonttools[woff]>=4.0.0->weasyprint) (4.56.0)\n",
      "Requirement already satisfied: pycparser in c:\\users\\gon41849\\appdata\\local\\anaconda4\\envs\\streamlit_vol\\lib\\site-packages (from cffi>=0.6->weasyprint) (2.21)\n",
      "Requirement already satisfied: webencodings in c:\\users\\gon41849\\appdata\\local\\anaconda4\\envs\\streamlit_vol\\lib\\site-packages (from cssselect2>=0.8.0->weasyprint) (0.5.1)\n",
      "Requirement already satisfied: brotli>=1.0.1 in c:\\users\\gon41849\\appdata\\local\\anaconda4\\envs\\streamlit_vol\\lib\\site-packages (from fonttools[woff]>=4.0.0->weasyprint) (1.0.9)\n",
      "Collecting zopfli>=0.1.4 (from fonttools[woff]>=4.0.0->weasyprint)\n",
      "  Downloading zopfli-0.2.3.post1-cp311-cp311-win_amd64.whl.metadata (3.0 kB)\n",
      "Downloading weasyprint-65.1-py3-none-any.whl (298 kB)\n",
      "Downloading cssselect2-0.8.0-py3-none-any.whl (15 kB)\n",
      "Downloading pydyf-0.11.0-py3-none-any.whl (8.1 kB)\n",
      "Downloading pyphen-0.17.2-py3-none-any.whl (2.1 MB)\n",
      "   ---------------------------------------- 0.0/2.1 MB ? eta -:--:--\n",
      "   ----------------------------------- ---- 1.8/2.1 MB 14.3 MB/s eta 0:00:01\n",
      "   ---------------------------------------- 2.1/2.1 MB 8.9 MB/s eta 0:00:00\n",
      "Downloading tinyhtml5-2.0.0-py3-none-any.whl (39 kB)\n",
      "Downloading zopfli-0.2.3.post1-cp311-cp311-win_amd64.whl (99 kB)\n",
      "Installing collected packages: zopfli, tinyhtml5, Pyphen, pydyf, cssselect2, weasyprint\n",
      "Successfully installed Pyphen-0.17.2 cssselect2-0.8.0 pydyf-0.11.0 tinyhtml5-2.0.0 weasyprint-65.1 zopfli-0.2.3.post1\n",
      "Note: you may need to restart the kernel to use updated packages.\n"
     ]
    }
   ],
   "source": [
    "pip install weasyprint"
   ]
  },
  {
   "cell_type": "code",
   "execution_count": 1,
   "id": "faea3c19-bc5f-47f6-b063-e20032e9ccb7",
   "metadata": {},
   "outputs": [
    {
     "name": "stdout",
     "output_type": "stream",
     "text": [
      "Collecting vl-convert-python\n",
      "  Downloading vl_convert_python-1.7.0-cp37-abi3-win_amd64.whl.metadata (5.2 kB)\n",
      "Downloading vl_convert_python-1.7.0-cp37-abi3-win_amd64.whl (29.8 MB)\n",
      "   ---------------------------------------- 0.0/29.8 MB ? eta -:--:--\n",
      "   ---- ----------------------------------- 3.7/29.8 MB 18.1 MB/s eta 0:00:02\n",
      "   ---------- ----------------------------- 7.9/29.8 MB 20.3 MB/s eta 0:00:02\n",
      "   --------------- ------------------------ 11.8/29.8 MB 18.5 MB/s eta 0:00:01\n",
      "   ---------------------- ----------------- 16.8/29.8 MB 19.6 MB/s eta 0:00:01\n",
      "   ----------------------------- ---------- 21.8/29.8 MB 20.2 MB/s eta 0:00:01\n",
      "   ----------------------------------- ---- 26.7/29.8 MB 20.7 MB/s eta 0:00:01\n",
      "   ---------------------------------------- 29.8/29.8 MB 19.9 MB/s eta 0:00:00\n",
      "Installing collected packages: vl-convert-python\n",
      "Successfully installed vl-convert-python-1.7.0\n",
      "Note: you may need to restart the kernel to use updated packages.\n"
     ]
    }
   ],
   "source": [
    "pip install vl-convert-python"
   ]
  },
  {
   "cell_type": "code",
   "execution_count": 1,
   "id": "dbc7ced0-1b74-4d37-b463-92b6c8327ce1",
   "metadata": {},
   "outputs": [
    {
     "name": "stdout",
     "output_type": "stream",
     "text": [
      "Collecting kaleido\n",
      "  Downloading kaleido-0.2.1-py2.py3-none-win_amd64.whl.metadata (15 kB)\n",
      "Downloading kaleido-0.2.1-py2.py3-none-win_amd64.whl (65.9 MB)\n",
      "   ---------------------------------------- 0.0/65.9 MB ? eta -:--:--\n",
      "   - -------------------------------------- 2.4/65.9 MB 12.2 MB/s eta 0:00:06\n",
      "   --- ------------------------------------ 6.0/65.9 MB 14.7 MB/s eta 0:00:05\n",
      "   ----- ---------------------------------- 8.4/65.9 MB 13.7 MB/s eta 0:00:05\n",
      "   ------- -------------------------------- 12.3/65.9 MB 15.1 MB/s eta 0:00:04\n",
      "   ---------- ----------------------------- 17.0/65.9 MB 16.5 MB/s eta 0:00:03\n",
      "   ------------- -------------------------- 22.0/65.9 MB 17.8 MB/s eta 0:00:03\n",
      "   ---------------- ----------------------- 26.5/65.9 MB 18.2 MB/s eta 0:00:03\n",
      "   ------------------ --------------------- 31.2/65.9 MB 18.7 MB/s eta 0:00:02\n",
      "   --------------------- ------------------ 35.1/65.9 MB 18.7 MB/s eta 0:00:02\n",
      "   ----------------------- ---------------- 39.3/65.9 MB 18.8 MB/s eta 0:00:02\n",
      "   -------------------------- ------------- 43.5/65.9 MB 18.8 MB/s eta 0:00:02\n",
      "   ---------------------------- ----------- 47.4/65.9 MB 18.9 MB/s eta 0:00:01\n",
      "   ------------------------------- -------- 51.1/65.9 MB 18.7 MB/s eta 0:00:01\n",
      "   --------------------------------- ------ 55.1/65.9 MB 18.8 MB/s eta 0:00:01\n",
      "   ----------------------------------- ---- 59.2/65.9 MB 18.8 MB/s eta 0:00:01\n",
      "   -------------------------------------- - 63.2/65.9 MB 18.8 MB/s eta 0:00:01\n",
      "   ---------------------------------------  65.8/65.9 MB 18.4 MB/s eta 0:00:01\n",
      "   ---------------------------------------- 65.9/65.9 MB 17.7 MB/s eta 0:00:00\n",
      "Installing collected packages: kaleido\n",
      "Successfully installed kaleido-0.2.1\n",
      "Note: you may need to restart the kernel to use updated packages.\n"
     ]
    }
   ],
   "source": [
    "pip install -U kaleido"
   ]
  },
  {
   "cell_type": "code",
   "execution_count": 1,
   "id": "91d5bd39-e726-4ec2-a1e9-2e50b6e31ad4",
   "metadata": {},
   "outputs": [
    {
     "name": "stdout",
     "output_type": "stream",
     "text": [
      "Name: kaleido\n",
      "Version: 0.2.1\n",
      "Summary: Static image export for web-based visualization libraries with zero dependencies\n",
      "Home-page: UNKNOWN\n",
      "Author: Jon Mease\n",
      "Author-email: jon@plotly.com\n",
      "License: MIT\n",
      "Location: C:\\Users\\gon41849\\AppData\\Local\\anaconda4\\envs\\Streamlit_VOL\\Lib\\site-packages\n",
      "Requires: \n",
      "Required-by: \n",
      "Note: you may need to restart the kernel to use updated packages.\n"
     ]
    }
   ],
   "source": [
    "pip show kaleido"
   ]
  },
  {
   "cell_type": "code",
   "execution_count": null,
   "id": "a22dcd28-b622-458d-b4dc-47bb4c90f235",
   "metadata": {},
   "outputs": [],
   "source": []
  }
 ],
 "metadata": {
  "kernelspec": {
   "display_name": "Python 3 (ipykernel)",
   "language": "python",
   "name": "python3"
  },
  "language_info": {
   "codemirror_mode": {
    "name": "ipython",
    "version": 3
   },
   "file_extension": ".py",
   "mimetype": "text/x-python",
   "name": "python",
   "nbconvert_exporter": "python",
   "pygments_lexer": "ipython3",
   "version": "3.11.11"
  }
 },
 "nbformat": 4,
 "nbformat_minor": 5
}
